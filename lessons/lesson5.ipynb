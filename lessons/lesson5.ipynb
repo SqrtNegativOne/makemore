{
 "cells": [
  {
   "cell_type": "code",
   "execution_count": 61,
   "id": "a30eebdd",
   "metadata": {},
   "outputs": [],
   "source": [
    "import torch\n",
    "import torch.nn as nn\n",
    "import torch.nn.functional as F\n",
    "import matplotlib.pyplot as plt\n",
    "import random\n",
    "g = torch.Generator(device='cpu').manual_seed(2147483647)"
   ]
  },
  {
   "cell_type": "code",
   "execution_count": 62,
   "id": "bde9798b",
   "metadata": {},
   "outputs": [],
   "source": [
    "SEED = 42\n",
    "\n",
    "CONTEXT_LEN = 8 # Must be a multiple of 2 for the WaveNet.\n",
    "\n",
    "VOCAB_SIZE = 27 # 26 letters + 1 for padding\n",
    "EMBED_DIMS = 24\n",
    "HIDDEN_DIMS = 128\n",
    "\n",
    "BATCH_SIZE  = 32\n",
    "EPOCHS  =  200000\n",
    "LEARNING_RATE = 0.1"
   ]
  },
  {
   "cell_type": "code",
   "execution_count": 63,
   "id": "ae676974",
   "metadata": {},
   "outputs": [],
   "source": [
    "words = open('names.txt').read().splitlines()"
   ]
  },
  {
   "cell_type": "code",
   "execution_count": 64,
   "id": "68f33977",
   "metadata": {},
   "outputs": [],
   "source": [
    "stoi = {s:i+1 for i, s in enumerate(sorted(set(''.join(words))))}\n",
    "stoi['.'] = 0\n",
    "itos = {i:s for s, i in stoi.items()}"
   ]
  },
  {
   "cell_type": "code",
   "execution_count": 65,
   "id": "5811b976",
   "metadata": {},
   "outputs": [],
   "source": [
    "def build_dataset(words):\n",
    "    X, y = [], []\n",
    "    for w in words:\n",
    "        context = [0] * CONTEXT_LEN\n",
    "        chrs = list(w) + ['.']\n",
    "        for c in chrs:\n",
    "            X.append(context)\n",
    "            y.append(stoi[c])\n",
    "            context = context[1:] + [stoi[c]]\n",
    "\n",
    "    X = torch.tensor(X)\n",
    "    y = torch.tensor(y)\n",
    "    return X, y\n",
    "\n",
    "random.shuffle(words)\n",
    "n1 = int(0.8 * len(words))\n",
    "n2 = int(0.9 * len(words))\n",
    "Xtr, ytr = build_dataset(words[:n1])\n",
    "Xv, yv = build_dataset(words[n1:n2])\n",
    "Xte, yte = build_dataset(words[n2:])\n",
    "# Train dataset is used to train the parameters, val is used to tune hyperparameters, and test is used to evaluate the final model."
   ]
  },
  {
   "cell_type": "code",
   "execution_count": 66,
   "id": "8f32f205",
   "metadata": {},
   "outputs": [
    {
     "name": "stdout",
     "output_type": "stream",
     "text": [
      "........ --> c\n",
      ".......c --> a\n",
      "......ca --> r\n",
      ".....car --> n\n",
      "....carn --> e\n",
      "...carne --> l\n",
      "..carnel --> l\n",
      ".carnell --> .\n",
      "........ --> m\n",
      ".......m --> i\n",
      "......mi --> a\n",
      ".....mia --> s\n",
      "....mias --> i\n",
      "...miasi --> a\n",
      "..miasia --> .\n",
      "........ --> o\n",
      ".......o --> l\n",
      "......ol --> y\n",
      ".....oly --> m\n",
      "....olym --> p\n"
     ]
    }
   ],
   "source": [
    "for x,y in zip(Xtr[:20], ytr[:20]):\n",
    "  print(''.join(itos[ix.item()] for ix in x), '-->', itos[y.item()])"
   ]
  },
  {
   "cell_type": "code",
   "execution_count": 67,
   "id": "b52be257",
   "metadata": {},
   "outputs": [],
   "source": [
    "assert Xtr.shape[1] == CONTEXT_LEN # N × CONTEXT_LEN\n",
    "samples = Xtr.shape[0]\n",
    "assert ytr.shape == (samples,)"
   ]
  },
  {
   "cell_type": "code",
   "execution_count": 68,
   "id": "462851a3",
   "metadata": {},
   "outputs": [],
   "source": [
    "# -----------------------------------------------------------------------------------------------\n",
    "class Linear:\n",
    "\n",
    "    def __init__(self, fan_in, fan_out, bias=True):\n",
    "        self.weight = torch.randn((fan_in, fan_out)) / fan_in**0.5 # note: kaiming init\n",
    "        self.bias = torch.zeros(fan_out) if bias else None\n",
    "\n",
    "    def __call__(self, x):\n",
    "        self.out = x @ self.weight\n",
    "        if self.bias is not None:\n",
    "            self.out += self.bias\n",
    "        return self.out\n",
    "\n",
    "    def parameters(self):\n",
    "        return [self.weight] + ([] if self.bias is None else [self.bias])\n",
    "\n",
    "# -----------------------------------------------------------------------------------------------\n",
    "class BatchNorm1d:\n",
    "\n",
    "    def __init__(self, dim, eps=1e-5, momentum=0.1):\n",
    "        self.eps = eps\n",
    "        self.momentum = momentum\n",
    "        self.training = True\n",
    "        # parameters (trained with backprop)\n",
    "        self.gamma = torch.ones(dim)\n",
    "        self.beta = torch.zeros(dim)\n",
    "        # buffers (trained with a running 'momentum update')\n",
    "        self.running_mean = torch.zeros(dim)\n",
    "        self.running_var = torch.ones(dim)\n",
    "\n",
    "    def __call__(self, x):\n",
    "        # calculate the forward pass\n",
    "        if self.training:\n",
    "            if x.ndim == 2:\n",
    "                dim = 0\n",
    "            elif x.ndim == 3:\n",
    "                dim = (0,1)\n",
    "            else:\n",
    "                raise ValueError(f\"Unsupported input dimensions: {x.ndim}. Expected 2 or 3 dimensions.\")\n",
    "            \n",
    "            xmean = x.mean(dim, keepdim=True) # batch mean\n",
    "            xvar = x.var(dim, keepdim=True) # batch variance\n",
    "        else:\n",
    "            xmean = self.running_mean\n",
    "            xvar = self.running_var\n",
    "        xhat = (x - xmean) / torch.sqrt(xvar + self.eps) # normalize to unit variance\n",
    "        self.out = self.gamma * xhat + self.beta\n",
    "        # update the buffers\n",
    "        if self.training:\n",
    "            with torch.no_grad():\n",
    "                self.running_mean = (1 - self.momentum) * self.running_mean + self.momentum * xmean\n",
    "                self.running_var = (1 - self.momentum) * self.running_var + self.momentum * xvar\n",
    "        return self.out\n",
    "\n",
    "    def parameters(self):\n",
    "        return [self.gamma, self.beta]\n",
    "\n",
    "# -----------------------------------------------------------------------------------------------\n",
    "class Tanh:\n",
    "    def __call__(self, x):\n",
    "        self.out = torch.tanh(x)\n",
    "        return self.out\n",
    "    def parameters(self):\n",
    "        return []\n",
    "\n",
    "# -----------------------------------------------------------------------------------------------\n",
    "class Embedding:\n",
    "\n",
    "    def __init__(self, num_embeddings, embedding_dim):\n",
    "        self.weight = torch.randn((num_embeddings, embedding_dim))\n",
    "\n",
    "    def __call__(self, IX):\n",
    "        self.out = self.weight[IX]\n",
    "        return self.out\n",
    "\n",
    "    def parameters(self):\n",
    "        return [self.weight]\n",
    "\n",
    "# -----------------------------------------------------------------------------------------------\n",
    "class FlattenConsecutive:\n",
    "\n",
    "    def __init__(self, n):\n",
    "        self.n = n\n",
    "\n",
    "    def __call__(self, x):\n",
    "        N, T, C = x.shape\n",
    "        x = x.view(N, T//self.n, C*self.n)\n",
    "        if x.shape[1] == 1:\n",
    "            x = x.squeeze(1)\n",
    "        self.out = x\n",
    "        return self.out\n",
    "\n",
    "    def parameters(self):\n",
    "        return []\n",
    "\n",
    "# -----------------------------------------------------------------------------------------------\n",
    "class Sequential:\n",
    "\n",
    "    def __init__(self, layers):\n",
    "        self.layers = layers\n",
    "\n",
    "    def __call__(self, x):\n",
    "        for layer in self.layers:\n",
    "            x = layer(x)\n",
    "        self.out = x\n",
    "        return self.out\n",
    "\n",
    "    def parameters(self):\n",
    "        # get parameters of all layers and stretch them out into one list\n",
    "        return [p for layer in self.layers for p in layer.parameters()]"
   ]
  },
  {
   "cell_type": "code",
   "execution_count": 69,
   "id": "258f74b8",
   "metadata": {},
   "outputs": [
    {
     "name": "stdout",
     "output_type": "stream",
     "text": [
      "Number of parameters: 76579\n"
     ]
    }
   ],
   "source": [
    "model = Sequential([\n",
    "    Embedding(VOCAB_SIZE, EMBED_DIMS),\n",
    "\n",
    "    FlattenConsecutive(2),\n",
    "    Linear(EMBED_DIMS * 2, HIDDEN_DIMS, bias=False),\n",
    "    BatchNorm1d(HIDDEN_DIMS),\n",
    "    Tanh(),\n",
    "\n",
    "    FlattenConsecutive(2),\n",
    "    Linear(HIDDEN_DIMS * 2, HIDDEN_DIMS, bias=False),\n",
    "    BatchNorm1d(HIDDEN_DIMS),\n",
    "    Tanh(),\n",
    "\n",
    "    FlattenConsecutive(2),\n",
    "    Linear(HIDDEN_DIMS * 2, HIDDEN_DIMS, bias=False),\n",
    "    BatchNorm1d(HIDDEN_DIMS),\n",
    "    Tanh(),\n",
    "\n",
    "    Linear(HIDDEN_DIMS, VOCAB_SIZE),\n",
    "])\n",
    "\n",
    "with torch.no_grad():\n",
    "    model.layers[-1].weight *= 0.1\n",
    "\n",
    "print(f'Number of parameters: {sum(p.nelement() for p in model.parameters())}')\n",
    "for p in model.parameters():\n",
    "    p.requires_grad = True"
   ]
  },
  {
   "cell_type": "code",
   "execution_count": 70,
   "id": "8d51090e",
   "metadata": {},
   "outputs": [],
   "source": [
    "for layer in model.layers:\n",
    "    if isinstance(layer, BatchNorm1d):\n",
    "        layer.training = True"
   ]
  },
  {
   "cell_type": "code",
   "execution_count": 71,
   "id": "54e790d0",
   "metadata": {},
   "outputs": [
    {
     "name": "stdout",
     "output_type": "stream",
     "text": [
      "      0/ 200000: 3.3101\n",
      "  10000/ 200000: 1.7497\n",
      "  20000/ 200000: 2.0786\n",
      "  30000/ 200000: 1.8087\n",
      "  40000/ 200000: 2.4492\n",
      "  50000/ 200000: 1.8686\n",
      "  60000/ 200000: 2.2886\n",
      "  70000/ 200000: 1.9253\n",
      "  80000/ 200000: 1.9398\n",
      "  90000/ 200000: 1.9496\n",
      " 100000/ 200000: 1.8602\n"
     ]
    },
    {
     "ename": "KeyboardInterrupt",
     "evalue": "",
     "output_type": "error",
     "traceback": [
      "\u001b[31m---------------------------------------------------------------------------\u001b[39m",
      "\u001b[31mKeyboardInterrupt\u001b[39m                         Traceback (most recent call last)",
      "\u001b[36mCell\u001b[39m\u001b[36m \u001b[39m\u001b[32mIn[71]\u001b[39m\u001b[32m, line 10\u001b[39m\n\u001b[32m      7\u001b[39m yb = ytr[ix]\n\u001b[32m      9\u001b[39m \u001b[38;5;66;03m# forward pass\u001b[39;00m\n\u001b[32m---> \u001b[39m\u001b[32m10\u001b[39m logits = \u001b[43mmodel\u001b[49m\u001b[43m(\u001b[49m\u001b[43mXb\u001b[49m\u001b[43m)\u001b[49m\n\u001b[32m     11\u001b[39m loss = F.cross_entropy(logits, yb)\n\u001b[32m     13\u001b[39m \u001b[38;5;66;03m# backward pass\u001b[39;00m\n",
      "\u001b[36mCell\u001b[39m\u001b[36m \u001b[39m\u001b[32mIn[68]\u001b[39m\u001b[32m, line 104\u001b[39m, in \u001b[36mSequential.__call__\u001b[39m\u001b[34m(self, x)\u001b[39m\n\u001b[32m    102\u001b[39m \u001b[38;5;28;01mdef\u001b[39;00m\u001b[38;5;250m \u001b[39m\u001b[34m__call__\u001b[39m(\u001b[38;5;28mself\u001b[39m, x):\n\u001b[32m    103\u001b[39m     \u001b[38;5;28;01mfor\u001b[39;00m layer \u001b[38;5;129;01min\u001b[39;00m \u001b[38;5;28mself\u001b[39m.layers:\n\u001b[32m--> \u001b[39m\u001b[32m104\u001b[39m         x = \u001b[43mlayer\u001b[49m\u001b[43m(\u001b[49m\u001b[43mx\u001b[49m\u001b[43m)\u001b[49m\n\u001b[32m    105\u001b[39m     \u001b[38;5;28mself\u001b[39m.out = x\n\u001b[32m    106\u001b[39m     \u001b[38;5;28;01mreturn\u001b[39;00m \u001b[38;5;28mself\u001b[39m.out\n",
      "\u001b[36mCell\u001b[39m\u001b[36m \u001b[39m\u001b[32mIn[68]\u001b[39m\u001b[32m, line 61\u001b[39m, in \u001b[36mTanh.__call__\u001b[39m\u001b[34m(self, x)\u001b[39m\n\u001b[32m     60\u001b[39m \u001b[38;5;28;01mdef\u001b[39;00m\u001b[38;5;250m \u001b[39m\u001b[34m__call__\u001b[39m(\u001b[38;5;28mself\u001b[39m, x):\n\u001b[32m---> \u001b[39m\u001b[32m61\u001b[39m     \u001b[38;5;28mself\u001b[39m.out = \u001b[43mtorch\u001b[49m\u001b[43m.\u001b[49m\u001b[43mtanh\u001b[49m\u001b[43m(\u001b[49m\u001b[43mx\u001b[49m\u001b[43m)\u001b[49m\n\u001b[32m     62\u001b[39m     \u001b[38;5;28;01mreturn\u001b[39;00m \u001b[38;5;28mself\u001b[39m.out\n",
      "\u001b[31mKeyboardInterrupt\u001b[39m: "
     ]
    }
   ],
   "source": [
    "lossi = []\n",
    "\n",
    "for epoch in range(EPOCHS):\n",
    "    # minibatching\n",
    "    ix = torch.randint(0, Xtr.shape[0], (BATCH_SIZE,), generator=g)\n",
    "    Xb = Xtr[ix]\n",
    "    yb = ytr[ix]\n",
    "\n",
    "    # forward pass\n",
    "    logits = model(Xb)\n",
    "    loss = F.cross_entropy(logits, yb)\n",
    "\n",
    "    # backward pass\n",
    "    for p in model.parameters():\n",
    "        p.grad = None\n",
    "    loss.backward()\n",
    "\n",
    "    # update parameters\n",
    "    with torch.no_grad():\n",
    "        for p in model.parameters():\n",
    "            lr = LEARNING_RATE if epoch < EPOCHS//2 else LEARNING_RATE * 0.1\n",
    "            p -= lr * p.grad\n",
    "        \n",
    "    if epoch % 10000 == 0: # print every once in a while\n",
    "        print(f'{epoch:7d}/{EPOCHS:7d}: {loss.item():.4f}')\n",
    "\n",
    "    lossi.append(loss.item())"
   ]
  },
  {
   "cell_type": "code",
   "execution_count": 73,
   "id": "aaa3b7c8",
   "metadata": {},
   "outputs": [
    {
     "data": {
      "text/plain": [
       "[<matplotlib.lines.Line2D at 0x1766a43afd0>]"
      ]
     },
     "execution_count": 73,
     "metadata": {},
     "output_type": "execute_result"
    },
    {
     "data": {
      "image/png": "[encoded data removed]",
      "text/plain": [
       "<Figure size 640x480 with 1 Axes>"
      ]
     },
     "metadata": {},
     "output_type": "display_data"
    }
   ],
   "source": [
    "trim = len(lossi) // 1000 * 1000\n",
    "plt.plot(torch.tensor(lossi[:trim]).view(-1, 1000).mean(1), label='Train Loss')"
   ]
  },
  {
   "cell_type": "code",
   "execution_count": 74,
   "id": "961ea100",
   "metadata": {},
   "outputs": [
    {
     "name": "stdout",
     "output_type": "stream",
     "text": [
      "Embedding: torch.Size([32, 8, 24])\n",
      "FlattenConsecutive: torch.Size([32, 4, 48])\n",
      "Linear: torch.Size([32, 4, 128])\n",
      "BatchNorm1d: torch.Size([32, 4, 128])\n",
      "Tanh: torch.Size([32, 4, 128])\n",
      "FlattenConsecutive: torch.Size([32, 2, 256])\n",
      "Linear: torch.Size([32, 2, 128])\n",
      "BatchNorm1d: torch.Size([32, 2, 128])\n",
      "Tanh: torch.Size([32, 2, 128])\n",
      "FlattenConsecutive: torch.Size([32, 256])\n",
      "Linear: torch.Size([32, 128])\n",
      "BatchNorm1d: torch.Size([32, 128])\n",
      "Tanh: torch.Size([32, 128])\n",
      "Linear: torch.Size([32, 27])\n"
     ]
    }
   ],
   "source": [
    "for layer in model.layers:\n",
    "    print(f'{layer.__class__.__name__}: {layer.out.shape}')"
   ]
  },
  {
   "cell_type": "code",
   "execution_count": 75,
   "id": "7ebe0700",
   "metadata": {},
   "outputs": [],
   "source": [
    "for layer in model.layers:\n",
    "    if isinstance(layer, BatchNorm1d):\n",
    "        layer.training = False  # set to eval mode"
   ]
  },
  {
   "cell_type": "code",
   "execution_count": 76,
   "id": "d189acf0",
   "metadata": {},
   "outputs": [
    {
     "name": "stdout",
     "output_type": "stream",
     "text": [
      "Train loss: 1.8415\n",
      "Validation loss: 1.9977\n"
     ]
    }
   ],
   "source": [
    "@torch.no_grad\n",
    "def evaluate_loss(X, y):\n",
    "    logits = model(X)\n",
    "    loss = F.cross_entropy(logits, y)\n",
    "    return loss.item()\n",
    "\n",
    "train_loss = evaluate_loss(Xtr, ytr)\n",
    "val_loss = evaluate_loss(Xv, yv)\n",
    "print(f'Train loss: {train_loss:.4f}')\n",
    "print(f'Validation loss: {val_loss:.4f}')"
   ]
  }
 ],
 "metadata": {
  "kernelspec": {
   "display_name": "Python 3",
   "language": "python",
   "name": "python3"
  },
  "language_info": {
   "codemirror_mode": {
    "name": "ipython",
    "version": 3
   },
   "file_extension": ".py",
   "mimetype": "text/x-python",
   "name": "python",
   "nbconvert_exporter": "python",
   "pygments_lexer": "ipython3",
   "version": "3.13.4"
  }
 },
 "nbformat": 4,
 "nbformat_minor": 5
}
