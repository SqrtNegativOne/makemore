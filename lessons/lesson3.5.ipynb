{
 "cells": [
  {
   "cell_type": "markdown",
   "id": "8d3fa34c",
   "metadata": {},
   "source": [
    "E01: I did not get around to seeing what happens when you initialize all weights and biases to zero. Try this and train the neural net. You might think either that 1) the network trains just fine or 2) the network doesn't train at all, but actually it is 3) the network trains but only partially, and achieves a pretty bad final performance. Inspect the gradients and activations to figure out what is happening and why the network is only partially training, and what part is being trained exactly.\n",
    "\n",
    "E02: BatchNorm, unlike other normalization layers like LayerNorm/GroupNorm etc. has the big advantage that after training, the batchnorm gamma/beta can be \"folded into\" the weights of the preceeding Linear layers, effectively erasing the need to forward it at test time. Set up a small 3-layer MLP with batchnorms, train the network, then \"fold\" the batchnorm gamma/beta into the preceeding Linear layer's W,b by creating a new W2, b2 and erasing the batch norm. Verify that this gives the same forward pass during inference. i.e. we see that the batchnorm is there just for stabilizing the training, and can be thrown out after training is done! pretty cool."
   ]
  },
  {
   "cell_type": "code",
   "execution_count": 303,
   "id": "a30eebdd",
   "metadata": {},
   "outputs": [],
   "source": [
    "import torch\n",
    "import torch.nn as nn\n",
    "import torch.nn.functional as F\n",
    "import matplotlib.pyplot as plt\n",
    "import random\n",
    "g = torch.Generator(device='cpu').manual_seed(2147483647)"
   ]
  },
  {
   "cell_type": "code",
   "execution_count": 304,
   "id": "bde9798b",
   "metadata": {},
   "outputs": [],
   "source": [
    "SEED = 42\n",
    "\n",
    "CONTEXT_LEN = 3\n",
    "\n",
    "VOCAB_SIZE = 27 # 26 letters + 1 for padding\n",
    "EMBED_DIMS = 10\n",
    "HIDDEN_DIMS = 200\n",
    "\n",
    "BATCH_SIZE  = 128\n",
    "EPOCHS  =  1000\n",
    "LEARNING_RATE = 0.001"
   ]
  },
  {
   "cell_type": "code",
   "execution_count": 305,
   "id": "ae676974",
   "metadata": {},
   "outputs": [],
   "source": [
    "words = open('names.txt').read().splitlines()"
   ]
  },
  {
   "cell_type": "code",
   "execution_count": 306,
   "id": "68f33977",
   "metadata": {},
   "outputs": [],
   "source": [
    "stoi = {s:i+1 for i, s in enumerate(sorted(set(''.join(words))))}\n",
    "stoi['.'] = 0\n",
    "itos = {i:s for s, i in stoi.items()}"
   ]
  },
  {
   "cell_type": "code",
   "execution_count": 307,
   "id": "5811b976",
   "metadata": {},
   "outputs": [],
   "source": [
    "def build_dataset(words):\n",
    "    X, y = [], []\n",
    "    for w in words:\n",
    "        context = [0] * CONTEXT_LEN\n",
    "        chrs = list(w) + ['.']\n",
    "        for c in chrs:\n",
    "            X.append(context)\n",
    "            y.append(stoi[c])\n",
    "            context = context[1:] + [stoi[c]]\n",
    "\n",
    "    X = torch.tensor(X)\n",
    "    y = torch.tensor(y)\n",
    "    return X, y\n",
    "\n",
    "random.shuffle(words)\n",
    "n1 = int(0.8 * len(words))\n",
    "n2 = int(0.9 * len(words))\n",
    "Xtr, ytr = build_dataset(words[:n1])\n",
    "Xv, yv = build_dataset(words[n1:n2])\n",
    "Xte, yte = build_dataset(words[n2:])\n",
    "# Train dataset is used to train the parameters, val is used to tune hyperparameters, and test is used to evaluate the final model."
   ]
  },
  {
   "cell_type": "code",
   "execution_count": 308,
   "id": "b52be257",
   "metadata": {},
   "outputs": [],
   "source": [
    "assert Xtr.shape[1] == CONTEXT_LEN # N × CONTEXT_LEN\n",
    "samples = Xtr.shape[0]\n",
    "assert ytr.shape == (samples,)"
   ]
  },
  {
   "cell_type": "markdown",
   "id": "67b3ba88",
   "metadata": {},
   "source": [
    "$$ y_\\text{logits} = Wx_\\text{cat} + b + U\\tanh(Hx_\\text{cat} + d) $$\n",
    "where $ x_\\text{cat} $ is `C[X].view(xlen, -1)`"
   ]
  },
  {
   "cell_type": "code",
   "execution_count": 309,
   "id": "a635b878",
   "metadata": {},
   "outputs": [],
   "source": [
    "# Initialise/reset parameters\n",
    "\n",
    "catfeatures = CONTEXT_LEN*EMBED_DIMS # In the paper: (n-1)*m, where n-1 is the context length\n",
    "\n",
    "C = torch.randn((VOCAB_SIZE, EMBED_DIMS),             generator=g)\n",
    "# C[5] ≡ F.one_hot(torch.tensor(5), num_classes=27).float() @ C. Former is faster.\n",
    "\n",
    "H = torch.randn((HIDDEN_DIMS, catfeatures),           generator=g) * 0.1\n",
    "d = torch.randn((HIDDEN_DIMS, 1),                     generator=g) * 0.01 # not 0 ∵ tanh neuron\n",
    "\n",
    "U = torch.randn((VOCAB_SIZE, HIDDEN_DIMS),            generator=g) * 0.01\n",
    "W = torch.randn((VOCAB_SIZE, catfeatures),            generator=g) * 0.01\n",
    "b = torch.zeros((VOCAB_SIZE, 1))\n",
    "\n",
    "bngain = torch.ones((HIDDEN_DIMS, 1))\n",
    "bnbias = torch.zeros((HIDDEN_DIMS, 1))\n",
    "\n",
    "params = [C, H, d, U, W, b, bngain, bnbias]\n",
    "for p in params:\n",
    "    p.requires_grad = True"
   ]
  },
  {
   "cell_type": "code",
   "execution_count": 310,
   "id": "fa20d21c",
   "metadata": {},
   "outputs": [
    {
     "data": {
      "text/plain": [
       "13107"
      ]
     },
     "execution_count": 310,
     "metadata": {},
     "output_type": "execute_result"
    }
   ],
   "source": [
    "sum(p.numel() for p in params) # Total number of parameters"
   ]
  },
  {
   "cell_type": "code",
   "execution_count": 311,
   "id": "ff59bd8c",
   "metadata": {},
   "outputs": [
    {
     "name": "stdout",
     "output_type": "stream",
     "text": [
      "30\n"
     ]
    }
   ],
   "source": [
    "print(catfeatures)"
   ]
  },
  {
   "cell_type": "code",
   "execution_count": null,
   "id": "bcce2ab0",
   "metadata": {},
   "outputs": [],
   "source": [
    "def return_logits(Xb):\n",
    "    samples = Xb.shape[0]\n",
    "    cat = C[Xb].view(Xb.shape[0], -1).t()\n",
    "    assert cat.shape == (catfeatures, samples)\n",
    "    h_preact = H @ cat #+ d  # Hidden layer preactivations\n",
    "    assert h_preact.shape == (HIDDEN_DIMS, samples)\n",
    "\n",
    "    # Batch normalisation\n",
    "    h_normalised = bngain * ((h_preact - h_preact.mean(0, keepdim=True)) / h_preact.std(0, keepdim=True)) + bnbias\n",
    "    assert h_normalised.shape == (HIDDEN_DIMS, samples)\n",
    "    \n",
    "    logits = W @ cat + b + U @ torch.tanh(h_normalised)\n",
    "    assert logits.shape == (VOCAB_SIZE, samples)\n",
    "    return logits.t()  # Return shape: N × VOCAB_SIZE"
   ]
  },
  {
   "cell_type": "code",
   "execution_count": 313,
   "id": "85f12dbd",
   "metadata": {},
   "outputs": [],
   "source": [
    "# Train\n",
    "lossi = []\n",
    "stepi = []"
   ]
  },
  {
   "cell_type": "code",
   "execution_count": 314,
   "id": "56142701",
   "metadata": {},
   "outputs": [
    {
     "name": "stdout",
     "output_type": "stream",
     "text": [
      "Epoch 0/1000, Loss: 3.2874484062194824\n",
      "Epoch 100/1000, Loss: 2.59639310836792\n",
      "Epoch 200/1000, Loss: 2.562225341796875\n",
      "Epoch 300/1000, Loss: 2.419325828552246\n",
      "Epoch 400/1000, Loss: 2.507263422012329\n",
      "Epoch 500/1000, Loss: 2.462912082672119\n",
      "Epoch 600/1000, Loss: 2.43609619140625\n",
      "Epoch 700/1000, Loss: 2.328589677810669\n",
      "Epoch 800/1000, Loss: 2.264427661895752\n",
      "Epoch 900/1000, Loss: 2.505157470703125\n"
     ]
    }
   ],
   "source": [
    "deci_epoch = EPOCHS // 10\n",
    "for epoch in range(EPOCHS):\n",
    "\n",
    "    # Minibatch construction\n",
    "    ix = torch.randint(0, Xtr.shape[0], (BATCH_SIZE,), generator=g)\n",
    "    Xb, yb = Xtr[ix], ytr[ix]\n",
    "    \n",
    "    # Forward pass\n",
    "    logits = return_logits(Xb)\n",
    "    loss = F.cross_entropy(logits, yb)\n",
    "\n",
    "    # Backward pass\n",
    "    for p in params:\n",
    "        p.grad = None # Set gradients to zero before backward pass\n",
    "    loss.backward() # Populate those gradients\n",
    "\n",
    "    # Update parameters\n",
    "    with torch.no_grad():\n",
    "        lr = 0.1 if epoch < EPOCHS/2 else 0.01\n",
    "        for p in params:\n",
    "            p.data -= lr * p.grad\n",
    "    \n",
    "    # Track stats\n",
    "    if epoch % deci_epoch == 0:\n",
    "        print(f'Epoch {epoch}/{EPOCHS}, Loss: {loss.item()}')\n",
    "    lossi.append(loss.item())\n",
    "    stepi.append(epoch * (Xtr.shape[0] // BATCH_SIZE) + ix[0].item() // BATCH_SIZE)"
   ]
  },
  {
   "cell_type": "code",
   "execution_count": null,
   "id": "f3bd4a29",
   "metadata": {},
   "outputs": [
    {
     "data": {
      "text/plain": [
       "[<matplotlib.lines.Line2D at 0x1e9c2bd39d0>]"
      ]
     },
     "execution_count": 315,
     "metadata": {},
     "output_type": "execute_result"
    },
    {
     "data": {
      "image/png": "[encoded data removed]",
      "text/plain": [
       "<Figure size 640x480 with 1 Axes>"
      ]
     },
     "metadata": {},
     "output_type": "display_data"
    }
   ],
   "source": [
    "plt.plot(stepi, lossi)"
   ]
  },
  {
   "cell_type": "code",
   "execution_count": 316,
   "id": "6f82e09d",
   "metadata": {},
   "outputs": [
    {
     "name": "stdout",
     "output_type": "stream",
     "text": [
      "Validation Loss: 2.319469690322876, Test Loss: 2.319469690322876\n"
     ]
    }
   ],
   "source": [
    "@torch.no_grad()\n",
    "def get_loss(X, y):\n",
    "    logits = return_logits(Xb)\n",
    "    return F.cross_entropy(logits, yb)\n",
    "\n",
    "# Evaluate on validation and test sets\n",
    "val_loss = get_loss(Xv, yv)\n",
    "test_loss = get_loss(Xte, yte)\n",
    "print(f'Validation Loss: {val_loss}, Test Loss: {test_loss}')"
   ]
  },
  {
   "cell_type": "code",
   "execution_count": 317,
   "id": "06e39b4f",
   "metadata": {},
   "outputs": [],
   "source": [
    "# F.cross_entropy(logits, yb) is the same as:\n",
    "# counts = logits.exp()\n",
    "# probs = counts / counts.sum(dim=1, keepdim=True)\n",
    "# loss = -probs[torch.arange(BATCH_SIZE), yb].log().mean()\n",
    "# Both will give the same result, but F.cross_entropy is more numerically stable and faster obv"
   ]
  },
  {
   "cell_type": "code",
   "execution_count": 318,
   "id": "93554b76",
   "metadata": {},
   "outputs": [
    {
     "name": "stdout",
     "output_type": "stream",
     "text": [
      "['hepvnwauleze', 'yeclye', 'assnrckyvarande', 'maylisanden', 'jleena', 'jina', 'osama', 'jalni', 'ta', 'ashaddy']\n"
     ]
    }
   ],
   "source": [
    "# Generate names\n",
    "NUM_NAMES = 10\n",
    "MAX_LENGTH = 20\n",
    "\n",
    "names = []\n",
    "\n",
    "for name in range(NUM_NAMES):\n",
    "    context = [0] * CONTEXT_LEN  # Start with the context of all dots\n",
    "    name = []\n",
    "    \n",
    "    for _ in range(MAX_LENGTH):\n",
    "        logits = return_logits(torch.tensor([context], dtype=torch.long))\n",
    "\n",
    "        probs = F.softmax(logits, dim=-1).squeeze(1)\n",
    "\n",
    "        next_char_idx = torch.multinomial(probs, num_samples=1, generator=g).item()\n",
    "        if next_char_idx == 0: break # Stop if we hit the end character (dot)\n",
    "        \n",
    "        name.append(itos[next_char_idx])\n",
    "        context = context[1:] + [next_char_idx]  # Update context\n",
    "    \n",
    "    names.append(''.join(name))\n",
    "\n",
    "print(names)"
   ]
  }
 ],
 "metadata": {
  "kernelspec": {
   "display_name": "Python 3",
   "language": "python",
   "name": "python3"
  },
  "language_info": {
   "codemirror_mode": {
    "name": "ipython",
    "version": 3
   },
   "file_extension": ".py",
   "mimetype": "text/x-python",
   "name": "python",
   "nbconvert_exporter": "python",
   "pygments_lexer": "ipython3",
   "version": "3.13.4"
  }
 },
 "nbformat": 4,
 "nbformat_minor": 5
}
