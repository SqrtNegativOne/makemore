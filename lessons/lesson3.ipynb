{
 "cells": [
  {
   "cell_type": "markdown",
   "id": "8d3fa34c",
   "metadata": {},
   "source": [
    "E01: I did not get around to seeing what happens when you initialize all weights and biases to zero. Try this and train the neural net. You might think either that 1) the network trains just fine or 2) the network doesn't train at all, but actually it is 3) the network trains but only partially, and achieves a pretty bad final performance. Inspect the gradients and activations to figure out what is happening and why the network is only partially training, and what part is being trained exactly.\n",
    "\n",
    "E02: BatchNorm, unlike other normalization layers like LayerNorm/GroupNorm etc. has the big advantage that after training, the batchnorm gamma/beta can be \"folded into\" the weights of the preceeding Linear layers, effectively erasing the need to forward it at test time. Set up a small 3-layer MLP with batchnorms, train the network, then \"fold\" the batchnorm gamma/beta into the preceeding Linear layer's W,b by creating a new W2, b2 and erasing the batch norm. Verify that this gives the same forward pass during inference. i.e. we see that the batchnorm is there just for stabilizing the training, and can be thrown out after training is done! pretty cool."
   ]
  },
  {
   "cell_type": "code",
   "execution_count": 120,
   "id": "a30eebdd",
   "metadata": {},
   "outputs": [],
   "source": [
    "import torch\n",
    "import torch.nn as nn\n",
    "import torch.nn.functional as F\n",
    "import matplotlib.pyplot as plt\n",
    "import random\n",
    "g = torch.Generator(device='cpu').manual_seed(2147483647)"
   ]
  },
  {
   "cell_type": "code",
   "execution_count": 121,
   "id": "bde9798b",
   "metadata": {},
   "outputs": [],
   "source": [
    "class CFG:\n",
    "    SEED = 42\n",
    "    CONTEXT_LEN = 3\n",
    "\n",
    "    VOCAB_SIZE = 27 # 26 letters + 1 for padding\n",
    "    EMBED_DIMS = 10\n",
    "    HIDDEN_DIMS = 300\n",
    "    HIDDEN_DIMS2 = [300, 200, 100]\n",
    "\n",
    "    BATCH_SIZE  = 128\n",
    "    BATCH_SIZE2 = 256\n",
    "    EPOCHS  =  1000\n",
    "    EPOCHS2 = 20000\n",
    "    LEARNING_RATE = 0.001"
   ]
  },
  {
   "cell_type": "code",
   "execution_count": 122,
   "id": "ae676974",
   "metadata": {},
   "outputs": [],
   "source": [
    "words = open('names.txt').read().splitlines()"
   ]
  },
  {
   "cell_type": "code",
   "execution_count": 123,
   "id": "68f33977",
   "metadata": {},
   "outputs": [],
   "source": [
    "stoi = {s:i+1 for i, s in enumerate(sorted(set(''.join(words))))}\n",
    "stoi['.'] = 0\n",
    "itos = {i:s for s, i in stoi.items()}"
   ]
  },
  {
   "cell_type": "code",
   "execution_count": 124,
   "id": "5811b976",
   "metadata": {},
   "outputs": [],
   "source": [
    "def build_dataset(words):\n",
    "    X, y = [], []\n",
    "    for w in words:\n",
    "        context = [0] * CFG.CONTEXT_LEN\n",
    "        chrs = list(w) + ['.']\n",
    "        for c in chrs:\n",
    "            X.append(context)\n",
    "            y.append(stoi[c])\n",
    "            context = context[1:] + [stoi[c]]\n",
    "\n",
    "    X = torch.tensor(X)\n",
    "    y = torch.tensor(y)\n",
    "    return X, y\n",
    "\n",
    "random.shuffle(words)\n",
    "n1 = int(0.8 * len(words))\n",
    "n2 = int(0.9 * len(words))\n",
    "Xtr, ytr = build_dataset(words[:n1])\n",
    "Xv, yv = build_dataset(words[n1:n2])\n",
    "Xte, yte = build_dataset(words[n2:])\n",
    "# Train dataset is used to train the parameters, val is used to tune hyperparameters, and test is used to evaluate the final model."
   ]
  },
  {
   "cell_type": "code",
   "execution_count": 125,
   "id": "b52be257",
   "metadata": {},
   "outputs": [
    {
     "data": {
      "text/plain": [
       "torch.Size([182467])"
      ]
     },
     "execution_count": 125,
     "metadata": {},
     "output_type": "execute_result"
    }
   ],
   "source": [
    "Xtr.shape # torch.Size([N, CONTEXT_LEN])\n",
    "ytr.shape # torch.Size([N])"
   ]
  },
  {
   "cell_type": "markdown",
   "id": "67b3ba88",
   "metadata": {},
   "source": [
    "$$ y_\\text{logits} = Wx_\\text{cat} + b + U\\tanh(Hx_\\text{cat} + d) $$\n",
    "where $ x_\\text{cat} $ is `C[X].view(xlen, -1)`"
   ]
  },
  {
   "cell_type": "code",
   "execution_count": null,
   "id": "a635b878",
   "metadata": {},
   "outputs": [],
   "source": [
    "# Initialise/reset parameters\n",
    "\n",
    "xlen = CFG.CONTEXT_LEN*CFG.EMBED_DIMS # In the paper: (n-1)*m, where n-1 is the context length\n",
    "\n",
    "C = torch.randn((27, CFG.EMBED_DIMS),              generator=g)\n",
    "# C[5] ≡ F.one_hot(torch.tensor(5), num_classes=27).float() @ C. Former is faster.\n",
    "\n",
    "H = torch.randn((CFG.HIDDEN_DIMS, xlen),           generator=g) * 0.1\n",
    "d = torch.randn((CFG.HIDDEN_DIMS, 1),              generator=g) * 0.01 # not 0 ∵ tanh neuron\n",
    "\n",
    "U = torch.randn((CFG.VOCAB_SIZE, CFG.HIDDEN_DIMS), generator=g) * 0.01\n",
    "W = torch.randn((CFG.VOCAB_SIZE, xlen),            generator=g) * 0.01\n",
    "b = torch.zeros((CFG.VOCAB_SIZE, 1))\n",
    "\n",
    "params = [C, H, d, U, W, b]\n",
    "for p in params:\n",
    "    p.requires_grad = True"
   ]
  },
  {
   "cell_type": "code",
   "execution_count": 127,
   "id": "078ae22f",
   "metadata": {},
   "outputs": [
    {
     "data": {
      "text/plain": [
       "torch.Size([30, 182467])"
      ]
     },
     "execution_count": 127,
     "metadata": {},
     "output_type": "execute_result"
    }
   ],
   "source": [
    "cat = C[Xtr].view(xlen, -1)\n",
    "cat.shape"
   ]
  },
  {
   "cell_type": "code",
   "execution_count": 128,
   "id": "fa20d21c",
   "metadata": {},
   "outputs": [
    {
     "data": {
      "text/plain": [
       "18507"
      ]
     },
     "execution_count": 128,
     "metadata": {},
     "output_type": "execute_result"
    }
   ],
   "source": [
    "sum(p.numel() for p in params) # Total number of parameters"
   ]
  },
  {
   "cell_type": "code",
   "execution_count": null,
   "id": "bcce2ab0",
   "metadata": {},
   "outputs": [],
   "source": [
    "def return_logits(Xb):\n",
    "    cat = C[Xb].view(xlen, -1)  # Concatenate embeddings: N × (CONTEXT_LEN * EMBED_DIMS)\n",
    "    h = H @ cat + d  # hidden layer preactivations\n",
    "    \n",
    "    logits = W @ cat + b + U @ torch.tanh(H @ cat + d)\n",
    "    return logits.t()  # Return shape: N × VOCAB_SIZE"
   ]
  },
  {
   "cell_type": "code",
   "execution_count": 130,
   "id": "85f12dbd",
   "metadata": {},
   "outputs": [],
   "source": [
    "# Train\n",
    "lossi = []\n",
    "stepi = []"
   ]
  },
  {
   "cell_type": "code",
   "execution_count": 131,
   "id": "56142701",
   "metadata": {},
   "outputs": [
    {
     "name": "stdout",
     "output_type": "stream",
     "text": [
      "Epoch 0/1000, Loss: 3.3048806190490723\n",
      "Epoch 100/1000, Loss: 3.10200572013855\n",
      "Epoch 200/1000, Loss: 2.960852861404419\n",
      "Epoch 300/1000, Loss: 2.8839385509490967\n",
      "Epoch 400/1000, Loss: 2.811224937438965\n",
      "Epoch 500/1000, Loss: 2.9287168979644775\n",
      "Epoch 600/1000, Loss: 2.930020570755005\n",
      "Epoch 700/1000, Loss: 2.9517695903778076\n",
      "Epoch 800/1000, Loss: 2.8303005695343018\n",
      "Epoch 900/1000, Loss: 2.753793239593506\n"
     ]
    }
   ],
   "source": [
    "deci_epoch = CFG.EPOCHS // 10\n",
    "for epoch in range(CFG.EPOCHS):\n",
    "\n",
    "    # Minibatch construction\n",
    "    ix = torch.randint(0, Xtr.shape[0], (CFG.BATCH_SIZE,), generator=g)\n",
    "    Xb, yb = Xtr[ix], ytr[ix]\n",
    "    \n",
    "    # Forward pass\n",
    "    logits = return_logits(Xb)\n",
    "    loss = F.cross_entropy(logits, yb)\n",
    "\n",
    "    # Backward pass\n",
    "    for p in params:\n",
    "        p.grad = None # Set gradients to zero before backward pass\n",
    "    loss.backward() # Populate those gradients\n",
    "\n",
    "    # Update parameters\n",
    "    with torch.no_grad():\n",
    "        lr = 0.1 if epoch < CFG.EPOCHS/2 else 0.01\n",
    "        for p in params:\n",
    "            p.data -= lr * p.grad\n",
    "    \n",
    "    # Track stats\n",
    "    if epoch % deci_epoch == 0:\n",
    "        print(f'Epoch {epoch}/{CFG.EPOCHS}, Loss: {loss.item()}')\n",
    "    lossi.append(loss.item())\n",
    "    stepi.append(epoch * (Xtr.shape[0] // CFG.BATCH_SIZE) + ix[0].item() // CFG.BATCH_SIZE)"
   ]
  },
  {
   "cell_type": "code",
   "execution_count": 132,
   "id": "f3bd4a29",
   "metadata": {},
   "outputs": [
    {
     "data": {
      "text/plain": [
       "[<matplotlib.lines.Line2D at 0x1969e538350>]"
      ]
     },
     "execution_count": 132,
     "metadata": {},
     "output_type": "execute_result"
    },
    {
     "data": {
      "image/png": "[encoded data removed]",
      "text/plain": [
       "<Figure size 640x480 with 1 Axes>"
      ]
     },
     "metadata": {},
     "output_type": "display_data"
    }
   ],
   "source": [
    "plt.plot(stepi, lossi)"
   ]
  },
  {
   "cell_type": "code",
   "execution_count": 133,
   "id": "6f82e09d",
   "metadata": {},
   "outputs": [
    {
     "name": "stdout",
     "output_type": "stream",
     "text": [
      "Validation Loss: 2.892993450164795, Test Loss: 2.892993450164795\n"
     ]
    }
   ],
   "source": [
    "@torch.no_grad()\n",
    "def get_loss(X, y):\n",
    "    logits = return_logits(Xb)\n",
    "    return F.cross_entropy(logits, yb)\n",
    "\n",
    "# Evaluate on validation and test sets\n",
    "val_loss = get_loss(Xv, yv)\n",
    "test_loss = get_loss(Xte, yte)\n",
    "print(f'Validation Loss: {val_loss}, Test Loss: {test_loss}')"
   ]
  },
  {
   "cell_type": "code",
   "execution_count": 134,
   "id": "06e39b4f",
   "metadata": {},
   "outputs": [],
   "source": [
    "# F.cross_entropy(logits, yb) is the same as:\n",
    "# counts = logits.exp()\n",
    "# probs = counts / counts.sum(dim=1, keepdim=True)\n",
    "# loss = -probs[torch.arange(BATCH_SIZE), yb].log().mean()\n",
    "# Both will give the same result, but F.cross_entropy is more numerically stable and faster obv"
   ]
  },
  {
   "cell_type": "code",
   "execution_count": 135,
   "id": "93554b76",
   "metadata": {},
   "outputs": [
    {
     "name": "stdout",
     "output_type": "stream",
     "text": [
      "['seh', 'adpsnandbnao', 'ii', 'aaillyaesi', 'efe', 'ameuiiom', 'ds', 'oaeeef', 'niniqiiotz', 'ygeq']\n"
     ]
    }
   ],
   "source": [
    "# Generate names\n",
    "NUM_NAMES = 10\n",
    "MAX_LENGTH = 20\n",
    "\n",
    "names = []\n",
    "\n",
    "for name in range(NUM_NAMES):\n",
    "    context = [0] * CFG.CONTEXT_LEN  # Start with the context of all dots\n",
    "    name = []\n",
    "    \n",
    "    for _ in range(MAX_LENGTH):\n",
    "        logits = return_logits(torch.tensor([context], dtype=torch.long))\n",
    "\n",
    "        probs = F.softmax(logits, dim=-1).squeeze(1)\n",
    "\n",
    "        next_char_idx = torch.multinomial(probs, num_samples=1, generator=g).item()\n",
    "        if next_char_idx == 0: break # Stop if we hit the end character (dot)\n",
    "        \n",
    "        name.append(itos[next_char_idx])\n",
    "        context = context[1:] + [next_char_idx]  # Update context\n",
    "    \n",
    "    names.append(''.join(name))\n",
    "\n",
    "print(names)"
   ]
  },
  {
   "cell_type": "markdown",
   "id": "424697d0",
   "metadata": {},
   "source": [
    "# 2-layer model"
   ]
  },
  {
   "cell_type": "code",
   "execution_count": 136,
   "id": "447fe947",
   "metadata": {},
   "outputs": [],
   "source": [
    "class BengioLayer(nn.Module):\n",
    "    def __init__(self, input_dim, output_dim, hidden_dims):\n",
    "        super().__init__()\n",
    "\n",
    "        self.linear_path = nn.Linear(input_dim, output_dim)      # Wx + b\n",
    "        self.tanh_path = nn.Sequential(\n",
    "            nn.Linear(input_dim, hidden_dims),                   # Hx + d\n",
    "            nn.Tanh(),                                           # h\n",
    "            nn.Linear(hidden_dims, output_dim, bias=False)       # U\n",
    "        )\n",
    "    def forward(self, x):\n",
    "        linear_out = self.linear_path(x)\n",
    "        tanh_out = self.tanh_path(x)\n",
    "        return linear_out + tanh_out\n",
    "\n",
    "class BengioModel(nn.Module):\n",
    "    def __init__(self, vocab_size, embed_dims, context_len, hidden_dims):\n",
    "        super().__init__()\n",
    "        self.C = nn.Embedding(vocab_size, embed_dims)\n",
    "\n",
    "        self.model = nn.Sequential(\n",
    "            BengioLayer(context_len * embed_dims, hidden_dims[1], hidden_dims[0]),\n",
    "            BengioLayer(hidden_dims[1], vocab_size, hidden_dims[2]),\n",
    "        )\n",
    "\n",
    "    def forward(self, X):\n",
    "        cat = self.C(X).view(X.shape[0], -1) # Take embeddings and concatenate them\n",
    "        return self.model(cat)"
   ]
  },
  {
   "cell_type": "code",
   "execution_count": 137,
   "id": "7ab71ea7",
   "metadata": {},
   "outputs": [
    {
     "name": "stdout",
     "output_type": "stream",
     "text": [
      "Epoch 0/20000, Loss: 3.3245608806610107\n",
      "Epoch 2000/20000, Loss: 2.3180062770843506\n",
      "Epoch 4000/20000, Loss: 2.2498598098754883\n",
      "Epoch 6000/20000, Loss: 2.179196834564209\n",
      "Epoch 8000/20000, Loss: 2.2625465393066406\n",
      "Epoch 10000/20000, Loss: 2.1029839515686035\n",
      "Epoch 12000/20000, Loss: 1.9912012815475464\n",
      "Epoch 14000/20000, Loss: 2.140272617340088\n",
      "Epoch 16000/20000, Loss: 2.1168465614318848\n",
      "Epoch 18000/20000, Loss: 2.1301429271698\n"
     ]
    }
   ],
   "source": [
    "model = BengioModel(vocab_size=CFG.VOCAB_SIZE, embed_dims=CFG.EMBED_DIMS, context_len=CFG.CONTEXT_LEN, hidden_dims=CFG.HIDDEN_DIMS2)\n",
    "deci_epoch = CFG.EPOCHS2 // 10\n",
    "for epoch in range(CFG.EPOCHS2):\n",
    "    ix = torch.randint(0, Xtr.shape[0], (CFG.BATCH_SIZE2,), generator=g)\n",
    "    Xb, yb = Xtr[ix], ytr[ix]\n",
    "\n",
    "    logits = model(Xb)\n",
    "    loss = F.cross_entropy(logits, yb)\n",
    "\n",
    "    model.zero_grad()\n",
    "    loss.backward()\n",
    "\n",
    "    with torch.no_grad():\n",
    "        lr = 0.1 if epoch < CFG.EPOCHS2/2 else 0.01\n",
    "        for p in model.parameters():\n",
    "            p.data -= lr * p.grad\n",
    "\n",
    "    if epoch % deci_epoch == 0:\n",
    "        print(f'Epoch {epoch}/{CFG.EPOCHS2}, Loss: {loss.item()}')"
   ]
  },
  {
   "cell_type": "code",
   "execution_count": 138,
   "id": "93b9f3f2",
   "metadata": {},
   "outputs": [
    {
     "name": "stdout",
     "output_type": "stream",
     "text": [
      "Validation Loss: 2.1397833824157715, Test Loss: 2.147035837173462\n"
     ]
    }
   ],
   "source": [
    "@torch.no_grad()\n",
    "def get_loss(model, X, y):\n",
    "    logits = model(X)\n",
    "    loss = F.cross_entropy(logits, y)\n",
    "    return loss.item()\n",
    "\n",
    "# Evaluate on validation and test sets\n",
    "val_loss = get_loss(model, Xv, yv)\n",
    "test_loss = get_loss(model, Xte, yte)\n",
    "print(f'Validation Loss: {val_loss}, Test Loss: {test_loss}')"
   ]
  },
  {
   "cell_type": "code",
   "execution_count": 139,
   "id": "40a33c29",
   "metadata": {},
   "outputs": [
    {
     "name": "stdout",
     "output_type": "stream",
     "text": [
      "['ace', 'mirus', 'ashakilsiyah', 'laie', 'nayasymond', 'dem', 'leahlandrick', 'julian', 'acereksam', 'auf']\n"
     ]
    }
   ],
   "source": [
    "# Generate names\n",
    "NUM_NAMES = 10\n",
    "MAX_LENGTH = 20\n",
    "\n",
    "names = []\n",
    "\n",
    "for name in range(NUM_NAMES):\n",
    "    context = [0] * CFG.CONTEXT_LEN  # Start with the context of all dots\n",
    "    name = []\n",
    "    \n",
    "    for _ in range(MAX_LENGTH):\n",
    "        logits = model(torch.tensor([context], dtype=torch.long))\n",
    "\n",
    "        probs = F.softmax(logits, dim=-1).squeeze(1)\n",
    "\n",
    "        next_char_idx = torch.multinomial(probs, num_samples=1, generator=g).item()\n",
    "        if next_char_idx == 0: break # Stop if we hit the end character (dot)\n",
    "        \n",
    "        name.append(itos[next_char_idx])\n",
    "        context = context[1:] + [next_char_idx]  # Update context\n",
    "    \n",
    "    names.append(''.join(name))\n",
    "\n",
    "print(names)"
   ]
  }
 ],
 "metadata": {
  "kernelspec": {
   "display_name": "Python 3",
   "language": "python",
   "name": "python3"
  },
  "language_info": {
   "codemirror_mode": {
    "name": "ipython",
    "version": 3
   },
   "file_extension": ".py",
   "mimetype": "text/x-python",
   "name": "python",
   "nbconvert_exporter": "python",
   "pygments_lexer": "ipython3",
   "version": "3.12.10"
  }
 },
 "nbformat": 4,
 "nbformat_minor": 5
}
