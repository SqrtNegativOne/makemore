{
 "cells": [
  {
   "cell_type": "markdown",
   "id": "b8052757",
   "metadata": {},
   "source": [
    "E01: Tune the hyperparameters of the training to beat my best validation loss of 2.2\n",
    "\n",
    "E02: I was not careful with the intialization of the network in this video.\n",
    "- What is the loss you'd get if the predicted probabilities at initialization were perfectly uniform? What loss do we achieve?\n",
    "- Can you tune the initialization to get a starting loss that is much more similar to (1)?\n",
    "\n",
    "E03: Read the Bengio et al 2003 paper, implement and try any idea from the paper. Did it work?"
   ]
  },
  {
   "cell_type": "code",
   "execution_count": 2,
   "id": "a30eebdd",
   "metadata": {},
   "outputs": [],
   "source": [
    "import torch\n",
    "import torch.nn as nn\n",
    "import torch.nn.functional as F\n",
    "import matplotlib.pyplot as plt\n",
    "import random\n",
    "g = torch.Generator(device='cpu').manual_seed(2147483647)"
   ]
  },
  {
   "cell_type": "code",
   "execution_count": 3,
   "id": "ae676974",
   "metadata": {},
   "outputs": [],
   "source": [
    "words = open('names.txt').read().splitlines()"
   ]
  },
  {
   "cell_type": "code",
   "execution_count": 4,
   "id": "68f33977",
   "metadata": {},
   "outputs": [],
   "source": [
    "stoi = {s:i+1 for i, s in enumerate(sorted(set(''.join(words))))}\n",
    "stoi['.'] = 0\n",
    "itos = {i:s for s, i in stoi.items()}"
   ]
  },
  {
   "cell_type": "code",
   "execution_count": 5,
   "id": "5811b976",
   "metadata": {},
   "outputs": [],
   "source": [
    "CONTEXT_LEN = 3 # Context length; how many previous characters do we take to predict the next one?\n",
    "\n",
    "def build_dataset(words):\n",
    "    X, y = [], []\n",
    "    for w in words:\n",
    "        context = [0] * CONTEXT_LEN\n",
    "        chrs = list(w) + ['.']\n",
    "        for c in chrs:\n",
    "            X.append(context)\n",
    "            y.append(stoi[c])\n",
    "            context = context[1:] + [stoi[c]]\n",
    "\n",
    "    X = torch.tensor(X)\n",
    "    y = torch.tensor(y)\n",
    "    return X, y\n",
    "\n",
    "random.shuffle(words)\n",
    "n1 = int(0.8 * len(words))\n",
    "n2 = int(0.9 * len(words))\n",
    "Xtr, ytr = build_dataset(words[:n1])\n",
    "Xv, yv = build_dataset(words[n1:n2])\n",
    "Xte, yte = build_dataset(words[n2:])\n",
    "# Train dataset is used to train the parameters, val is used to tune hyperparameters, and test is used to evaluate the final model."
   ]
  },
  {
   "cell_type": "code",
   "execution_count": 6,
   "id": "b52be257",
   "metadata": {},
   "outputs": [
    {
     "data": {
      "text/plain": [
       "torch.Size([182356])"
      ]
     },
     "execution_count": 6,
     "metadata": {},
     "output_type": "execute_result"
    }
   ],
   "source": [
    "Xtr.shape # torch.Size([N, CONTEXT_LEN])\n",
    "ytr.shape # torch.Size([N])"
   ]
  },
  {
   "cell_type": "markdown",
   "id": "67b3ba88",
   "metadata": {},
   "source": [
    "$$ y_\\text{logits} = Wx_\\text{cat} + b + U\\tanh(Hx_\\text{cat} + d) $$\n",
    "where $ x_\\text{cat} $ is `C[X].view(xlen, -1)`"
   ]
  },
  {
   "cell_type": "code",
   "execution_count": 7,
   "id": "a635b878",
   "metadata": {},
   "outputs": [],
   "source": [
    "# Initialise/reset parameters\n",
    "\n",
    "VOCAB_SIZE = 27\n",
    "EMBED_DIMS = 3\n",
    "HIDDEN_LAYER_SIZE = 300\n",
    "\n",
    "xlen = CONTEXT_LEN*EMBED_DIMS # In the paper: (n-1)*m, where n-1 is the context length\n",
    "\n",
    "C = torch.randn((27, EMBED_DIMS)) # C[5] ≡ F.one_hot(torch.tensor(5), num_classes=27).float() @ C. Former is faster.\n",
    "\n",
    "H = torch.randn((HIDDEN_LAYER_SIZE, xlen), generator=g)\n",
    "d = torch.randn((HIDDEN_LAYER_SIZE, 1), generator=g)\n",
    "\n",
    "U = torch.randn((VOCAB_SIZE, HIDDEN_LAYER_SIZE), generator=g)\n",
    "W = torch.randn((VOCAB_SIZE, xlen), generator=g)\n",
    "b = torch.randn((VOCAB_SIZE, 1), generator=g)\n",
    "\n",
    "params = [C, H, d, U, W, b]\n",
    "for p in params:\n",
    "    p.requires_grad = True"
   ]
  },
  {
   "cell_type": "code",
   "execution_count": 8,
   "id": "078ae22f",
   "metadata": {},
   "outputs": [
    {
     "data": {
      "text/plain": [
       "torch.Size([9, 182356])"
      ]
     },
     "execution_count": 8,
     "metadata": {},
     "output_type": "execute_result"
    }
   ],
   "source": [
    "cat = C[Xtr].view(xlen, -1)\n",
    "cat.shape"
   ]
  },
  {
   "cell_type": "code",
   "execution_count": 9,
   "id": "fa20d21c",
   "metadata": {},
   "outputs": [
    {
     "data": {
      "text/plain": [
       "11451"
      ]
     },
     "execution_count": 9,
     "metadata": {},
     "output_type": "execute_result"
    }
   ],
   "source": [
    "sum(p.numel() for p in params) # Total number of parameters"
   ]
  },
  {
   "cell_type": "code",
   "execution_count": 10,
   "id": "bcce2ab0",
   "metadata": {},
   "outputs": [],
   "source": [
    "def return_logits(Xb):\n",
    "    cat = C[Xb].view(xlen, -1)  # Concatenate embeddings: N × (CONTEXT_LEN * EMBED_DIMS)\n",
    "    logits = W @ cat + b + U @ torch.tanh(H @ cat + d)\n",
    "    return logits.t()  # Return shape: N × VOCAB_SIZE"
   ]
  },
  {
   "cell_type": "code",
   "execution_count": 11,
   "id": "85f12dbd",
   "metadata": {},
   "outputs": [],
   "source": [
    "# Train\n",
    "EPOCHS = 10000\n",
    "BATCH_SIZE = 128\n",
    "\n",
    "lossi = []\n",
    "stepi = []"
   ]
  },
  {
   "cell_type": "code",
   "execution_count": 12,
   "id": "56142701",
   "metadata": {},
   "outputs": [
    {
     "name": "stdout",
     "output_type": "stream",
     "text": [
      "Epoch 0/10000, Loss: 35.2561149597168\n",
      "Epoch 1000/10000, Loss: 3.1108148097991943\n",
      "Epoch 2000/10000, Loss: 3.2297511100769043\n",
      "Epoch 3000/10000, Loss: 3.1440553665161133\n",
      "Epoch 4000/10000, Loss: 3.4092063903808594\n",
      "Epoch 5000/10000, Loss: 2.85416579246521\n",
      "Epoch 6000/10000, Loss: 2.8290605545043945\n",
      "Epoch 7000/10000, Loss: 2.8746821880340576\n",
      "Epoch 8000/10000, Loss: 2.8955836296081543\n",
      "Epoch 9000/10000, Loss: 2.7766354084014893\n"
     ]
    }
   ],
   "source": [
    "for epoch in range(EPOCHS):\n",
    "\n",
    "    # Minibatch construction\n",
    "    ix = torch.randint(0, Xtr.shape[0], (BATCH_SIZE,), generator=g)\n",
    "    Xb, yb = Xtr[ix], ytr[ix]\n",
    "    \n",
    "    # Forward pass\n",
    "    logits = return_logits(Xb)\n",
    "    loss = F.cross_entropy(logits, yb)\n",
    "\n",
    "    # Backward pass\n",
    "    for p in params:\n",
    "        p.grad = None # Set gradients to zero before backward pass\n",
    "    loss.backward() # Populate those gradients\n",
    "\n",
    "    # Update parameters\n",
    "    with torch.no_grad():\n",
    "        lr = 0.1 if epoch < EPOCHS/2 else 0.01\n",
    "        for p in params:\n",
    "            p.data -= lr * p.grad\n",
    "    \n",
    "    # Track stats\n",
    "    if epoch % 1000 == 0:\n",
    "        print(f'Epoch {epoch}/{EPOCHS}, Loss: {loss.item()}')\n",
    "    lossi.append(loss.item())\n",
    "    stepi.append(epoch * (Xtr.shape[0] // BATCH_SIZE) + ix[0].item() // BATCH_SIZE)"
   ]
  },
  {
   "cell_type": "code",
   "execution_count": 13,
   "id": "f3bd4a29",
   "metadata": {},
   "outputs": [
    {
     "data": {
      "text/plain": [
       "[<matplotlib.lines.Line2D at 0x1c06f2bbe90>]"
      ]
     },
     "execution_count": 13,
     "metadata": {},
     "output_type": "execute_result"
    },
    {
     "data": {
      "image/png": "[encoded data removed]",
      "text/plain": [
       "<Figure size 640x480 with 1 Axes>"
      ]
     },
     "metadata": {},
     "output_type": "display_data"
    }
   ],
   "source": [
    "plt.plot(stepi, lossi)"
   ]
  },
  {
   "cell_type": "code",
   "execution_count": 14,
   "id": "06e39b4f",
   "metadata": {},
   "outputs": [],
   "source": [
    "# F.cross_entropy(logits, yb) is the same as:\n",
    "# counts = logits.exp()\n",
    "# probs = counts / counts.sum(dim=1, keepdim=True)\n",
    "# loss = -probs[torch.arange(BATCH_SIZE), yb].log().mean()\n",
    "# Both will give the same result, but F.cross_entropy is more numerically stable and faster obv"
   ]
  },
  {
   "cell_type": "code",
   "execution_count": 15,
   "id": "408c9121",
   "metadata": {},
   "outputs": [
    {
     "data": {
      "image/png": "[encoded data removed]",
      "text/plain": [
       "<Figure size 800x800 with 1 Axes>"
      ]
     },
     "metadata": {},
     "output_type": "display_data"
    }
   ],
   "source": [
    "# visualize dimensions 0 and 1 of the embedding matrix C for all characters\n",
    "plt.figure(figsize=(8,8))\n",
    "plt.scatter(C[:,0].data, C[:,1].data, s=200)\n",
    "for i in range(C.shape[0]):\n",
    "    plt.text(C[i,0].item(), C[i,1].item(), itos[i], ha=\"center\", va=\"center\", color='white')\n",
    "plt.grid('minor')"
   ]
  },
  {
   "cell_type": "code",
   "execution_count": 16,
   "id": "93554b76",
   "metadata": {},
   "outputs": [
    {
     "name": "stdout",
     "output_type": "stream",
     "text": [
      "['ailnaybicabeiajgaame', '', 'a', 'r', 'arelnlpnkullvce', 'hvam', 'rclaellinia', 'p', 'srz', 'annacclarcbvyjieskaf']\n"
     ]
    }
   ],
   "source": [
    "# Generate names\n",
    "NUM_NAMES = 10\n",
    "MAX_LENGTH = 20\n",
    "\n",
    "names = []\n",
    "\n",
    "for name in range(NUM_NAMES):\n",
    "    context = [0] * CONTEXT_LEN  # Start with the context of all dots\n",
    "    name = []\n",
    "    \n",
    "    for _ in range(MAX_LENGTH):\n",
    "        logits = return_logits(torch.tensor([context], dtype=torch.long))\n",
    "\n",
    "        probs = F.softmax(logits, dim=-1).squeeze(1)\n",
    "\n",
    "        next_char_idx = torch.multinomial(probs, num_samples=1, generator=g).item()\n",
    "        if next_char_idx == 0: break # Stop if we hit the end character (dot)\n",
    "        \n",
    "        name.append(itos[next_char_idx])\n",
    "        context = context[1:] + [next_char_idx]  # Update context\n",
    "    \n",
    "    names.append(''.join(name))\n",
    "\n",
    "print(names)"
   ]
  },
  {
   "cell_type": "markdown",
   "id": "424697d0",
   "metadata": {},
   "source": [
    "# 2-layer model"
   ]
  },
  {
   "cell_type": "code",
   "execution_count": 17,
   "id": "447fe947",
   "metadata": {},
   "outputs": [],
   "source": [
    "class BengioLayer(nn.Module):\n",
    "    def __init__(self, input_dim, output_dim, hidden_dims):\n",
    "        super().__init__()\n",
    "\n",
    "        self.linear_path = nn.Linear(input_dim, output_dim)      # Wx + b\n",
    "        self.tanh_path = nn.Sequential(\n",
    "            nn.Linear(input_dim, hidden_dims),                   # Hx + d\n",
    "            nn.Tanh(),                                           # h\n",
    "            nn.Linear(hidden_dims, output_dim, bias=False)       # U\n",
    "        )\n",
    "    def forward(self, x):\n",
    "        linear_out = self.linear_path(x)\n",
    "        tanh_out = self.tanh_path(x)\n",
    "        return linear_out + tanh_out\n",
    "\n",
    "class BengioModel(nn.Module):\n",
    "    def __init__(self, vocab_size, embed_dims, context_len, hidden_dims):\n",
    "        super().__init__()\n",
    "        self.C = nn.Embedding(vocab_size, embed_dims)\n",
    "\n",
    "        self.model = nn.Sequential(\n",
    "            BengioLayer(context_len * embed_dims, hidden_dims[1], hidden_dims[0]),\n",
    "            BengioLayer(hidden_dims[1], vocab_size, hidden_dims[2]),\n",
    "        )\n",
    "\n",
    "    def forward(self, X):\n",
    "        cat = self.C(X).view(X.shape[0], -1) # Take embeddings and concatenate them\n",
    "        return self.model(cat)"
   ]
  },
  {
   "cell_type": "code",
   "execution_count": 21,
   "id": "7ab71ea7",
   "metadata": {},
   "outputs": [
    {
     "name": "stdout",
     "output_type": "stream",
     "text": [
      "Epoch 0/10000, Loss: 3.310124635696411\n",
      "Epoch 1000/10000, Loss: 2.4600765705108643\n",
      "Epoch 2000/10000, Loss: 2.3125128746032715\n",
      "Epoch 3000/10000, Loss: 2.348957061767578\n",
      "Epoch 4000/10000, Loss: 2.1023201942443848\n",
      "Epoch 5000/10000, Loss: 2.232112169265747\n",
      "Epoch 6000/10000, Loss: 2.224982261657715\n",
      "Epoch 7000/10000, Loss: 2.24953293800354\n",
      "Epoch 8000/10000, Loss: 2.163243293762207\n",
      "Epoch 9000/10000, Loss: 2.074795961380005\n"
     ]
    }
   ],
   "source": [
    "EPOCHS = 10000\n",
    "BATCH_SIZE = 256\n",
    "\n",
    "model = BengioModel(vocab_size=VOCAB_SIZE, embed_dims=10, context_len=CONTEXT_LEN, hidden_dims=[300, 200, 100])\n",
    "\n",
    "for epoch in range(EPOCHS):\n",
    "    ix = torch.randint(0, Xtr.shape[0], (BATCH_SIZE,), generator=g)\n",
    "    Xb, yb = Xtr[ix], ytr[ix]\n",
    "\n",
    "    logits = model(Xb)\n",
    "    loss = F.cross_entropy(logits, yb)\n",
    "\n",
    "    model.zero_grad()\n",
    "    loss.backward()\n",
    "\n",
    "    with torch.no_grad():\n",
    "        lr = 0.1 if epoch < EPOCHS/2 else 0.01\n",
    "        for p in model.parameters():\n",
    "            p.data -= lr * p.grad\n",
    "\n",
    "    if epoch % 1000 == 0:\n",
    "        print(f'Epoch {epoch}/{EPOCHS}, Loss: {loss.item()}')"
   ]
  },
  {
   "cell_type": "code",
   "execution_count": null,
   "id": "93b9f3f2",
   "metadata": {},
   "outputs": [
    {
     "name": "stdout",
     "output_type": "stream",
     "text": [
      "Validation Loss: 2.1842610836029053, Test Loss: 2.1847715377807617\n"
     ]
    }
   ],
   "source": [
    "@torch.no_grad()\n",
    "def get_loss(model, X, y):\n",
    "    logits = model(X)\n",
    "    loss = F.cross_entropy(logits, y)\n",
    "    return loss.item()\n",
    "\n",
    "# Evaluate on validation and test sets\n",
    "val_loss = get_loss(model, Xv, yv)\n",
    "test_loss = get_loss(model, Xte, yte)\n",
    "print(f'Validation Loss: {val_loss}, Test Loss: {test_loss}')"
   ]
  },
  {
   "cell_type": "code",
   "execution_count": 20,
   "id": "40a33c29",
   "metadata": {},
   "outputs": [
    {
     "name": "stdout",
     "output_type": "stream",
     "text": [
      "['yorahrrirasta', 'napvaydrty', 'porimika', 'shycell', 'ahl', 'slina', 'aryal', 'caumua', 'mize', 'zeluah']\n"
     ]
    }
   ],
   "source": [
    "# Generate names\n",
    "NUM_NAMES = 10\n",
    "MAX_LENGTH = 20\n",
    "\n",
    "names = []\n",
    "\n",
    "for name in range(NUM_NAMES):\n",
    "    context = [0] * CONTEXT_LEN  # Start with the context of all dots\n",
    "    name = []\n",
    "    \n",
    "    for _ in range(MAX_LENGTH):\n",
    "        logits = model(torch.tensor([context], dtype=torch.long))\n",
    "\n",
    "        probs = F.softmax(logits, dim=-1).squeeze(1)\n",
    "\n",
    "        next_char_idx = torch.multinomial(probs, num_samples=1, generator=g).item()\n",
    "        if next_char_idx == 0: break # Stop if we hit the end character (dot)\n",
    "        \n",
    "        name.append(itos[next_char_idx])\n",
    "        context = context[1:] + [next_char_idx]  # Update context\n",
    "    \n",
    "    names.append(''.join(name))\n",
    "\n",
    "print(names)"
   ]
  }
 ],
 "metadata": {
  "kernelspec": {
   "display_name": "Python 3",
   "language": "python",
   "name": "python3"
  },
  "language_info": {
   "codemirror_mode": {
    "name": "ipython",
    "version": 3
   },
   "file_extension": ".py",
   "mimetype": "text/x-python",
   "name": "python",
   "nbconvert_exporter": "python",
   "pygments_lexer": "ipython3",
   "version": "3.12.10"
  }
 },
 "nbformat": 4,
 "nbformat_minor": 5
}
